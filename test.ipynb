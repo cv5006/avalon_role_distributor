{
 "cells": [
  {
   "cell_type": "code",
   "execution_count": 1,
   "metadata": {},
   "outputs": [],
   "source": [
    "from ftn.generate_msg import distributor,generate_player_info"
   ]
  },
  {
   "cell_type": "code",
   "execution_count": 2,
   "metadata": {},
   "outputs": [],
   "source": [
    "import pandas as pd\n",
    "user_info_df = pd.DataFrame({\n",
    "    \"player_ids\": [1, 2, 3, 4, 5],\n",
    "    \"name\": [\"김\", \"이\", \"박\", \"정\", \"최\"],\n",
    "    \"email\": [\"2@naver.com\", \"3@naver.com\", \"4@naver.com\", \"5@naver.com\", \"6@naver.com\"]\n",
    "})"
   ]
  },
  {
   "cell_type": "code",
   "execution_count": 4,
   "metadata": {},
   "outputs": [],
   "source": [
    "a= generate_player_info(\n",
    "    distributor(\n",
    "        [1,2,3,4,5], is_persival = True, is_morgana = False),\n",
    "    user_info_df\n",
    ")"
   ]
  },
  {
   "cell_type": "code",
   "execution_count": 7,
   "metadata": {},
   "outputs": [
    {
     "data": {
      "text/plain": [
       "{1: {'name': '김',\n",
       "  'email': '2@naver.com',\n",
       "  'msg': '\\n    🗡️ 당신은 악인입니다. (모드레드의 흉악한 수하)\\n    선인들을 속이고 혼란을 일으켜 어둠의 승리를 쟁취하세요! \\n    함께하는 악인은 박 입니다.\\n    ',\n",
       "  'role': 'bad',\n",
       "  'img': './media/bad_guy_2.png'},\n",
       " 2: {'name': '이',\n",
       "  'email': '3@naver.com',\n",
       "  'msg': '\\n    🧙\\u200d♂️ 당신은 멀린입니다. \\n    악인을 찾아내고 선인들을 지켜야 합니다! \\n    악인은 김, 박 입니다.\\n    ',\n",
       "  'role': 'merlin',\n",
       "  'img': './media/merlin.png'},\n",
       " 3: {'name': '박',\n",
       "  'email': '4@naver.com',\n",
       "  'msg': '\\n    🗡️ 당신은 악인입니다. (모드레드의 흉악한 수하)\\n    선인들을 속이고 혼란을 일으켜 어둠의 승리를 쟁취하세요! \\n    함께하는 악인은 김 입니다.\\n    ',\n",
       "  'role': 'bad',\n",
       "  'img': './media/bad_guy_1.png'},\n",
       " 4: {'name': '정',\n",
       "  'email': '5@naver.com',\n",
       "  'msg': '\\n    🛡️ 당신은 선인 퍼시발입니다. \\n    멀린을 보호하고 선인들에게 희망을 주세요! \\n    멀린은 이 입니다.\\n    ',\n",
       "  'role': 'percival',\n",
       "  'img': './media/percival.png'},\n",
       " 5: {'name': '최',\n",
       "  'email': '6@naver.com',\n",
       "  'msg': '\\n    🕊️ 당신은 선인입니다. (아서왕의 충성스러운 신하)\\n    정의와 진실을 위해 함께 힘을 모아 승리를 향해 나아가세요!\\n    ',\n",
       "  'role': 'good',\n",
       "  'img': './media/good_guy_4.png'}}"
      ]
     },
     "execution_count": 7,
     "metadata": {},
     "output_type": "execute_result"
    }
   ],
   "source": [
    "a"
   ]
  },
  {
   "cell_type": "code",
   "execution_count": null,
   "metadata": {},
   "outputs": [
    {
     "data": {
      "text/plain": [
       "({'good': {1, 3, 4},\n",
       "  'merlin': {3},\n",
       "  'persival': {4},\n",
       "  'bad': {2, 5},\n",
       "  'morigana': {5}},)"
      ]
     },
     "metadata": {},
     "output_type": "display_data"
    }
   ],
   "source": [
    "distributor(\n",
    "    [1,2,3,4,5], is_persival = True, is_morigana = True),"
   ]
  },
  {
   "cell_type": "code",
   "execution_count": null,
   "metadata": {},
   "outputs": [
    {
     "data": {
      "text/plain": [
       "({'good': {1, 3, 4},\n",
       "  'merlin': {3},\n",
       "  'persival': {4},\n",
       "  'bad': {2, 5},\n",
       "  'morigana': {5}},)"
      ]
     },
     "metadata": {},
     "output_type": "display_data"
    }
   ],
   "source": [
    "distributor(\n",
    "    [1,2,3,4,5], is_persival = True, is_morigana = True),"
   ]
  },
  {
   "cell_type": "code",
   "execution_count": null,
   "metadata": {},
   "outputs": [
    {
     "data": {
      "text/plain": [
       "({'good': {1, 3, 4},\n",
       "  'merlin': {3},\n",
       "  'persival': {4},\n",
       "  'bad': {2, 5},\n",
       "  'morigana': {5}},)"
      ]
     },
     "metadata": {},
     "output_type": "display_data"
    }
   ],
   "source": [
    "distributor(\n",
    "    [1,2,3,4,5], is_persival = True, is_morigana = True),"
   ]
  },
  {
   "cell_type": "code",
   "execution_count": null,
   "metadata": {},
   "outputs": [
    {
     "data": {
      "text/plain": [
       "({'good': {1, 3, 4},\n",
       "  'merlin': {3},\n",
       "  'persival': {4},\n",
       "  'bad': {2, 5},\n",
       "  'morigana': {5}},)"
      ]
     },
     "metadata": {},
     "output_type": "display_data"
    }
   ],
   "source": [
    "distributor(\n",
    "    [1,2,3,4,5], is_persival = True, is_morigana = True),"
   ]
  },
  {
   "cell_type": "code",
   "execution_count": null,
   "metadata": {},
   "outputs": [],
   "source": []
  }
 ],
 "metadata": {
  "kernelspec": {
   "display_name": "hy_env",
   "language": "python",
   "name": "python3"
  },
  "language_info": {
   "codemirror_mode": {
    "name": "ipython",
    "version": 3
   },
   "file_extension": ".py",
   "mimetype": "text/x-python",
   "name": "python",
   "nbconvert_exporter": "python",
   "pygments_lexer": "ipython3",
   "version": "3.12.11"
  }
 },
 "nbformat": 4,
 "nbformat_minor": 2
}
