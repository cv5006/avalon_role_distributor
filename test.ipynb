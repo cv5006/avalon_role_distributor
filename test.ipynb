{
 "cells": [
  {
   "cell_type": "code",
   "execution_count": 1,
   "metadata": {},
   "outputs": [],
   "source": [
    "from ftn.generate_msg import distributor,generate_player_info"
   ]
  },
  {
   "cell_type": "code",
   "execution_count": 2,
   "metadata": {},
   "outputs": [],
   "source": [
    "import pandas as pd\n",
    "user_info_df = pd.DataFrame({\n",
    "    \"player_ids\": [1, 2, 3, 4, 5],\n",
    "    \"name\": [\"김\", \"이\", \"박\", \"정\", \"최\"],\n",
    "    \"email\": [\"2@naver.com\", \"3@naver.com\", \"4@naver.com\", \"5@naver.com\", \"6@naver.com\"]\n",
    "})"
   ]
  },
  {
   "cell_type": "code",
   "execution_count": 5,
   "metadata": {},
   "outputs": [
    {
     "data": {
      "text/plain": [
       "{'good': [1, 3, 5],\n",
       " 'merlin': [1],\n",
       " 'percival': [3],\n",
       " 'bad': [2, 4],\n",
       " 'morgana': []}"
      ]
     },
     "execution_count": 5,
     "metadata": {},
     "output_type": "execute_result"
    }
   ],
   "source": [
    "\n",
    "distributor(\n",
    "    [1,2,3,4,5], is_percival = True, is_morgana = False)\n"
   ]
  },
  {
   "cell_type": "code",
   "execution_count": null,
   "metadata": {},
   "outputs": [
    {
     "data": {
      "text/plain": [
       "({'good': {1, 3, 4},\n",
       "  'merlin': {3},\n",
       "  'persival': {4},\n",
       "  'bad': {2, 5},\n",
       "  'morigana': {5}},)"
      ]
     },
     "metadata": {},
     "output_type": "display_data"
    }
   ],
   "source": [
    "distributor(\n",
    "    [1,2,3,4,5], is_persival = True, is_morigana = True),"
   ]
  },
  {
   "cell_type": "code",
   "execution_count": null,
   "metadata": {},
   "outputs": [
    {
     "data": {
      "text/plain": [
       "({'good': {1, 3, 4},\n",
       "  'merlin': {3},\n",
       "  'persival': {4},\n",
       "  'bad': {2, 5},\n",
       "  'morigana': {5}},)"
      ]
     },
     "metadata": {},
     "output_type": "display_data"
    }
   ],
   "source": [
    "distributor(\n",
    "    [1,2,3,4,5], is_persival = True, is_morigana = True),"
   ]
  },
  {
   "cell_type": "code",
   "execution_count": null,
   "metadata": {},
   "outputs": [
    {
     "data": {
      "text/plain": [
       "({'good': {1, 3, 4},\n",
       "  'merlin': {3},\n",
       "  'persival': {4},\n",
       "  'bad': {2, 5},\n",
       "  'morigana': {5}},)"
      ]
     },
     "metadata": {},
     "output_type": "display_data"
    }
   ],
   "source": [
    "distributor(\n",
    "    [1,2,3,4,5], is_persival = True, is_morigana = True),"
   ]
  },
  {
   "cell_type": "code",
   "execution_count": null,
   "metadata": {},
   "outputs": [
    {
     "data": {
      "text/plain": [
       "({'good': {1, 3, 4},\n",
       "  'merlin': {3},\n",
       "  'persival': {4},\n",
       "  'bad': {2, 5},\n",
       "  'morigana': {5}},)"
      ]
     },
     "metadata": {},
     "output_type": "display_data"
    }
   ],
   "source": [
    "distributor(\n",
    "    [1,2,3,4,5], is_persival = True, is_morigana = True),"
   ]
  },
  {
   "cell_type": "code",
   "execution_count": null,
   "metadata": {},
   "outputs": [],
   "source": []
  }
 ],
 "metadata": {
  "kernelspec": {
   "display_name": "hy_env",
   "language": "python",
   "name": "python3"
  },
  "language_info": {
   "codemirror_mode": {
    "name": "ipython",
    "version": 3
   },
   "file_extension": ".py",
   "mimetype": "text/x-python",
   "name": "python",
   "nbconvert_exporter": "python",
   "pygments_lexer": "ipython3",
   "version": "3.12.11"
  }
 },
 "nbformat": 4,
 "nbformat_minor": 2
}
